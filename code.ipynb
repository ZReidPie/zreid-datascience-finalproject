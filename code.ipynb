{
 "cells": [
  {
   "cell_type": "markdown",
   "metadata": {},
   "source": [
    "# **Setting Up and Using the AniList API**\n",
    "\n",
    "### **Tip 1**: Use a virtual environment to keep your dependencies isolated.  \n",
    "### **Tip 2**: Don’t worry about tokens expiring—they last a long time.\n",
    "\n",
    "---"
   ]
  },
  {
   "cell_type": "markdown",
   "metadata": {},
   "source": [
    "## **Step 1: Register Your Application on AniList**\n",
    "\n",
    "1. **Go to AniList Developer Settings**:  \n",
    "   [AniList Developer Settings](https://anilist.co/settings/developer).\n",
    "\n",
    "2. **Create a New Application**:\n",
    "   - If you don’t have an AniList account, create one.\n",
    "   - **Application Name**: Choose a memorable name.\n",
    "   - **Redirect URL**: Use a dummy URL like `https://example.com/callback`.  \n",
    "     *(No web development is needed; this is just for OAuth).*\n",
    "\n",
    "3. **Save the Application**:\n",
    "   - You’ll receive:\n",
    "     - **Client ID**\n",
    "     - **Client Secret**\n",
    "   - **Important**: Save these securely.\n",
    "---"
   ]
  },
  {
   "cell_type": "markdown",
   "metadata": {},
   "source": [
    "## **Step 2: Obtain an Authorization Code**\n",
    "\n",
    "### **Why Use Authorization Code Grant?**\n",
    "We’ll hide sensitive keys in a `.env` file and add it to `.gitignore` for security.\n",
    "\n",
    "### **Construct the Authorization URL**  \n",
    "Replace placeholders with your actual values:\n",
    "https://anilist.co/api/v2/oauth/authorize?client_id=YOUR_CLIENT_ID&response_type=code&redirect_uri=YOUR_REDIRECT_URI\n",
    "\n",
    "\n",
    "### 1.**Open the URL in a Browser**\n",
    "\n",
    "- Log in to AniList.\n",
    "- Grant permissions to your app.\n",
    "- You’ll be redirected to your specified redirect URL, which includes the AUTH_CODE as a query parameter (e.g., https://example.com/callback?code=AUTH_CODE).\n",
    "\n",
    "\n",
    "#### 2. **Copy the `AUTH_CODE` from the Redirect URL and save it to the `.env` file**\n",
    "\n"
   ]
  },
  {
   "cell_type": "markdown",
   "metadata": {},
   "source": [
    "## **Step 3: Exchange Authorization Code for Access Token**\n",
    "\n",
    "1. **Create a `.env` File**:  \n",
    "   Store your credentials securely in the following format:\n",
    "\n",
    "   CLIENT_ID=\"{INSERT}\"\n",
    "\n",
    "   CLIENT_SECRET=\"{INSERT}\"\n",
    "\n",
    "   REDIRECT_URI=\"{INSERT}\"\n",
    "   \n",
    "   AUTH_CODE=\"{INSERT}\"\n",
    "\n",
    "2. **Run the First Code Cell**:\n",
    "\n",
    "This makes a POST request to AniList's `token_url` and retrieves the `ACCESS_TOKEN`\n"
   ]
  },
  {
   "cell_type": "code",
   "execution_count": 9,
   "metadata": {},
   "outputs": [],
   "source": [
    "import requests\n",
    "import os\n",
    "from dotenv import load_dotenv\n",
    "\n",
    "# Load variables from .env file\n",
    "load_dotenv()\n",
    "\n",
    "# Access the environment variables\n",
    "CLIENT_ID = os.getenv('CLIENT_ID')\n",
    "CLIENT_SECRET = os.getenv('CLIENT_SECRET')\n",
    "REDIRECT_URI = os.getenv('REDIRECT_URI')\n",
    "ACCESS_TOKEN = os.getenv('ACCESS_TOKEN')\n",
    "AUTH_CODE = os.getenv('AUTH_CODE')\n",
    "\n",
    "# Token request payload\n",
    "token_url = 'https://anilist.co/api/v2/oauth/token' # public endpoint for Anilist \n",
    "payload = {\n",
    "    'grant_type': 'authorization_code',\n",
    "    'client_id': CLIENT_ID,\n",
    "    'client_secret': CLIENT_SECRET,\n",
    "    'redirect_uri': REDIRECT_URI,\n",
    "    'code': AUTH_CODE\n",
    "}\n",
    "\n",
    "# Send POST request to exchange code for access token\n",
    "response = requests.post(token_url, data=payload)\n",
    "token_data = response.json()\n",
    "\n",
    "# Print the access token\n",
    "\n",
    "# uncomment this \n",
    "# print(\"Access Token:\", token_data['access_token'])"
   ]
  },
  {
   "cell_type": "markdown",
   "metadata": {},
   "source": [
    "3. **Add the ACCESS_TOKEN to Your .env File:**\n",
    "    \n",
    "    ACCESS_TOKEN=\"{INSERT}\"\n",
    "\n",
    "4. **Testing json data**\n",
    "\n",
    "    Now run the cell below to test if you can fetch the anime json data\n"
   ]
  },
  {
   "cell_type": "code",
   "execution_count": 10,
   "metadata": {},
   "outputs": [
    {
     "name": "stdout",
     "output_type": "stream",
     "text": [
      "{'data': {'Media': {'id': 1, 'title': {'romaji': 'Cowboy Bebop', 'english': 'Cowboy Bebop', 'native': 'カウボーイビバップ'}, 'format': 'TV', 'episodes': 26, 'status': 'FINISHED', 'averageScore': 86, 'popularity': 368961, 'genres': ['Action', 'Adventure', 'Drama', 'Sci-Fi']}}}\n"
     ]
    }
   ],
   "source": [
    "import requests\n",
    "\n",
    "# Your access token\n",
    "ACCESS_TOKEN = os.getenv('ACCESS_TOKEN')\n",
    "\n",
    "# Authorization headers\n",
    "headers = {\n",
    "    'Authorization': f'Bearer {ACCESS_TOKEN}'\n",
    "}\n",
    "\n",
    "# GraphQL query to fetch anime details\n",
    "query = '''\n",
    "query ($id: Int) {\n",
    "  Media(id: $id, type: ANIME) {\n",
    "    id\n",
    "    title {\n",
    "      romaji\n",
    "      english\n",
    "      native\n",
    "    }\n",
    "    format\n",
    "    episodes\n",
    "    status\n",
    "    averageScore\n",
    "    popularity\n",
    "    genres\n",
    "  }\n",
    "}\n",
    "'''\n",
    "\n",
    "# Variables for the query\n",
    "variables = {\n",
    "    'id': 1  # Example ID for \"Cowboy Bebop\"\n",
    "}\n",
    "\n",
    "# Make the request\n",
    "url = 'https://graphql.anilist.co'\n",
    "response = requests.post(url, json={'query': query, 'variables': variables}, headers=headers)\n",
    "\n",
    "# Print the response\n",
    "print(response.json())\n"
   ]
  },
  {
   "cell_type": "code",
   "execution_count": null,
   "metadata": {},
   "outputs": [],
   "source": []
  }
 ],
 "metadata": {
  "kernelspec": {
   "display_name": "env",
   "language": "python",
   "name": "python3"
  },
  "language_info": {
   "codemirror_mode": {
    "name": "ipython",
    "version": 3
   },
   "file_extension": ".py",
   "mimetype": "text/x-python",
   "name": "python",
   "nbconvert_exporter": "python",
   "pygments_lexer": "ipython3",
   "version": "3.11.9"
  }
 },
 "nbformat": 4,
 "nbformat_minor": 2
}
